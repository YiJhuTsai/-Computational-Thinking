{
  "nbformat": 4,
  "nbformat_minor": 0,
  "metadata": {
    "colab": {
      "name": "week10.ipynb",
      "provenance": [],
      "authorship_tag": "ABX9TyOHRlvY1BBlSBoO06GKxw30",
      "include_colab_link": true
    },
    "kernelspec": {
      "name": "python3",
      "display_name": "Python 3"
    }
  },
  "cells": [
    {
      "cell_type": "markdown",
      "metadata": {
        "id": "view-in-github",
        "colab_type": "text"
      },
      "source": [
        "<a href=\"https://colab.research.google.com/github/YiJhuTsai/-Computational-Thinking/blob/master/week10.ipynb\" target=\"_parent\"><img src=\"https://colab.research.google.com/assets/colab-badge.svg\" alt=\"Open In Colab\"/></a>"
      ]
    },
    {
      "cell_type": "code",
      "metadata": {
        "colab": {
          "base_uri": "https://localhost:8080/"
        },
        "id": "kTl-esvBarSl",
        "outputId": "f2bf0182-3d47-4ae3-a433-53cd6877028a"
      },
      "source": [
        "#Input\n",
        "seat = int(input(\"Enter a seat numnber? \"))\n",
        "#Process\n",
        "group = (seat - 1) // 5 + 1\n",
        "#Output\n",
        "print(\"Group is\", group)"
      ],
      "execution_count": 1,
      "outputs": [
        {
          "output_type": "stream",
          "text": [
            "Enter a seat numnber? 26\n",
            "Group is 6\n"
          ],
          "name": "stdout"
        }
      ]
    }
  ]
}