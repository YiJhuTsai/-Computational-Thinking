{
  "nbformat": 4,
  "nbformat_minor": 0,
  "metadata": {
    "colab": {
      "name": "109期末程式設計.ipynb",
      "provenance": [],
      "collapsed_sections": [],
      "authorship_tag": "ABX9TyNTzn5HAX0tQ50s9mbtk4GF",
      "include_colab_link": true
    },
    "kernelspec": {
      "name": "python3",
      "display_name": "Python 3"
    }
  },
  "cells": [
    {
      "cell_type": "markdown",
      "metadata": {
        "id": "view-in-github",
        "colab_type": "text"
      },
      "source": [
        "<a href=\"https://colab.research.google.com/github/YiJhuTsai/-Computational-Thinking/blob/master/109%E6%9C%9F%E6%9C%AB%E7%A8%8B%E5%BC%8F%E8%A8%AD%E8%A8%88.ipynb\" target=\"_parent\"><img src=\"https://colab.research.google.com/assets/colab-badge.svg\" alt=\"Open In Colab\"/></a>"
      ]
    },
    {
      "cell_type": "code",
      "metadata": {
        "colab": {
          "base_uri": "https://localhost:8080/"
        },
        "id": "NdXjFyaw5Bh1",
        "outputId": "c409c329-bb9e-4741-b8fe-1b0ce7a2817d"
      },
      "source": [
        "name1 = input(\"姊姊的名字是什麼? : \")\r\n",
        "name2 = input(\"妹妹的名字是什麼? : \")\r\n",
        "print(\"朱迪:晚上好無聊哦…今天天氣很好欸！要不要一起出門呀？\")\r\n",
        "print(\"珊迪:可是好冷…我不想出門啦！比較想叫foodpanda…然後在家廢！\")\r\n",
        "print(\"朱迪:還是我們去看電影！電影院很溫暖的！\")\r\n",
        "print(\"珊迪:可是現在疫情那麼嚴重！你都不會怕嗎? 電影院是密閉空間欸…\")\r\n",
        "print(\"朱迪:全程戴著口罩，還有用酒精消毒雙手就好啦！而且工作人員會幫我們量體溫，免驚啦！\")\r\n",
        "print(\"珊迪:那我們要看哪一部?有什麼好看的嗎?\")\r\n",
        "print(\"朱迪:我想看《飢餓遊戲:自由幻夢I》，大學同學跟我說很推！\")\r\n",
        "print(\"珊迪:好啊!真是難得，你說的這部我剛好也想看!\")\r\n",
        "print(\"朱迪:那我來查一下影片資訊！\")"
      ],
      "execution_count": 23,
      "outputs": [
        {
          "output_type": "stream",
          "text": [
            "姊姊的名字是什麼? : 珊迪\n",
            "妹妹的名字是什麼? : 朱迪\n",
            "朱迪:晚上好無聊哦…今天天氣很好欸！要不要一起出門呀？\n",
            "珊迪:可是好冷…我不想出門啦！比較想叫foodpanda…然後在家廢！\n",
            "朱迪:還是我們去看電影！電影院很溫暖的！\n",
            "珊迪:可是現在疫情那麼嚴重！你都不會怕嗎? 電影院是密閉空間欸…\n",
            "朱迪:全程戴著口罩，還有用酒精消毒雙手就好啦！而且工作人員會幫我們量體溫，免驚啦！\n",
            "珊迪:那我們要看哪一部?有什麼好看的嗎?\n",
            "朱迪:我想看《飢餓遊戲:自由幻夢I》，大學同學跟我說很推！\n",
            "珊迪:好啊!真是難得，你說的這部我剛好也想看!\n",
            "朱迪:那我來查一下影片資訊！\n"
          ],
          "name": "stdout"
        }
      ]
    },
    {
      "cell_type": "code",
      "metadata": {
        "colab": {
          "base_uri": "https://localhost:8080/"
        },
        "id": "qe6vCnIeDQsa",
        "outputId": "de9a1f7b-8ce3-4c9c-bc92-0d4ef843283b"
      },
      "source": [
        "movie_title = \"《飢餓遊戲:自由幻夢I》\" \r\n",
        "release_year = \"西元2014年\"\r\n",
        "movie_time_min = \"123分鐘\"\r\n",
        "movie_rating = \"6.6\"\r\n",
        "\r\n",
        "director = \"Francis Lawrence\" \r\n",
        "stars_1 = \"Jennifer Shrader Lawrence\"\r\n",
        "stars_2 = \"Donald Edward McNichol Sutherland\"\r\n",
        "stars_3 = \"Josh Hutcherson\"\r\n",
        "\r\n",
        "print(\"電影英文名稱\",movie_title) \r\n",
        "print(\"上映年分\",release_year)\r\n",
        "print(\"片長\",movie_time_min)\r\n",
        "print(\"評價\",movie_rating)\r\n",
        "print(\"導演\",director)\r\n",
        "print(\"演員\")\r\n",
        "list ((stars_1, stars_2, stars_3)) "
      ],
      "execution_count": 26,
      "outputs": [
        {
          "output_type": "stream",
          "text": [
            "電影英文名稱 《飢餓遊戲:自由幻夢I》\n",
            "上映年分 西元2014年\n",
            "片長 123分鐘\n",
            "評價 6.6\n",
            "導演 Francis Lawrence\n",
            "演員\n"
          ],
          "name": "stdout"
        },
        {
          "output_type": "execute_result",
          "data": {
            "text/plain": [
              "['Jennifer Shrader Lawrence',\n",
              " 'Donald Edward McNichol Sutherland',\n",
              " 'Josh Hutcherson']"
            ]
          },
          "metadata": {
            "tags": []
          },
          "execution_count": 26
        }
      ]
    }
  ]
}