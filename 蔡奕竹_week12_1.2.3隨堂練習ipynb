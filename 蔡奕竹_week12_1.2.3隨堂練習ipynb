{
  "nbformat": 4,
  "nbformat_minor": 0,
  "metadata": {
    "colab": {
      "name": "蔡奕竹_week12_1.ipynb",
      "provenance": [],
      "authorship_tag": "ABX9TyN5GftUvv2QaXOVd0h4JL0z",
      "include_colab_link": true
    },
    "kernelspec": {
      "name": "python3",
      "display_name": "Python 3"
    }
  },
  "cells": [
    {
      "cell_type": "markdown",
      "metadata": {
        "id": "view-in-github",
        "colab_type": "text"
      },
      "source": [
        "<a href=\"https://colab.research.google.com/github/YiJhuTsai/-Computational-Thinking/blob/master/%E8%94%A1%E5%A5%95%E7%AB%B9_week12_1.2.3.ipynb\" target=\"_parent\"><img src=\"https://colab.research.google.com/assets/colab-badge.svg\" alt=\"Open In Colab\"/></a>"
      ]
    },
    {
      "cell_type": "markdown",
      "metadata": {
        "id": "Jxi3aPYicmKT"
      },
      "source": [
        "隨堂練習1: 購物清單\n",
        "\n",
        "試著用串列列出你最喜愛的五樣東西為購物清單(shopping_list)!"
      ]
    },
    {
      "cell_type": "code",
      "metadata": {
        "colab": {
          "base_uri": "https://localhost:8080/"
        },
        "id": "EnmkJjdlZJx0",
        "outputId": "d9d79d18-817f-462f-bdc3-d86d8f64bb51"
      },
      "source": [
        "shopping_list= ['養樂多', '豆花', '麵包', '芒果', '榴槤']\n",
        "print(shopping_list)"
      ],
      "execution_count": 51,
      "outputs": [
        {
          "output_type": "stream",
          "text": [
            "['養樂多', '豆花', '麵包', '芒果', '榴槤']\n"
          ],
          "name": "stdout"
        }
      ]
    },
    {
      "cell_type": "markdown",
      "metadata": {
        "id": "0bl9T6sWdrdH"
      },
      "source": [
        "隨堂練習2: Best_NBA\n",
        "\n",
        "\n"
      ]
    },
    {
      "cell_type": "code",
      "metadata": {
        "colab": {
          "base_uri": "https://localhost:8080/"
        },
        "id": "JQmFt1E4dxF0",
        "outputId": "6bce2c00-e7c9-4676-f477-977a01d3f292"
      },
      "source": [
        "season = \"1995-1996\"\n",
        "team = \"Chicago Bulls\"\n",
        "coach = \"Phil Jackson\"\n",
        "records = [72, 10]\n",
        "starting = ['Ron Harper', 'Michael Jordan', 'ScottiePippen', 'Dennis Rodman', 'Luc Longley']\n",
        "champion = True\n",
        "best_NBA_list= ((season, team, coach, records, starting, champion))\n",
        "print(best_NBA)\n",
        "print(type(best_NBA))\n",
        "print(best_NBA[4])\n",
        "print(best_NBA[-2])\n",
        "print(best_NBA[0:3])"
      ],
      "execution_count": 67,
      "outputs": [
        {
          "output_type": "stream",
          "text": [
            "['1995-1996', 'Chicago Bulls', 'Phil Jackson', [72, 10], ['Ron Harper', 'Michael Jordan', 'Scottie Pippen', 'Dennis Rodman', 'Luc Longley'], True]\n",
            "<class 'list'>\n",
            "['Ron Harper', 'Michael Jordan', 'Scottie Pippen', 'Dennis Rodman', 'Luc Longley']\n",
            "['Ron Harper', 'Michael Jordan', 'Scottie Pippen', 'Dennis Rodman', 'Luc Longley']\n",
            "['1995-1996', 'Chicago Bulls', 'Phil Jackson']\n"
          ],
          "name": "stdout"
        }
      ]
    },
    {
      "cell_type": "markdown",
      "metadata": {
        "id": "GOkSEYFduO9i"
      },
      "source": [
        "隨堂練習3"
      ]
    },
    {
      "cell_type": "code",
      "metadata": {
        "colab": {
          "base_uri": "https://localhost:8080/"
        },
        "id": "JiZXzpRpuS8m",
        "outputId": "222cfe03-c305-4e74-c266-fecf135c1bfb"
      },
      "source": [
        "#[0,1,2,3,4,5,6,7,8,9]\n",
        "a = range(0,10,1) \n",
        "print(a)\n",
        "range(0,10)\n",
        "print(a[0], a[1], a[2], a[3], a[4], a[5], a[6],a[7], a[8], a[9])\n",
        "#[0,2,4,6,8]\n",
        "b = range(0,9,2) \n",
        "print(b)\n",
        "range(0,9)\n",
        "print(b[0], b[1], b[2], b[3], b[4])\n",
        "#[5,7,9]\n",
        "c = range(5,10,2) \n",
        "print(c)\n",
        "range(0,10)\n",
        "print(c[0], c[1], c[2])\n",
        "#[0,-1,-2,-3,-4,-5,-6,-7,-8,-9]\n",
        "d = range(0,-10,-1) \n",
        "print(d)\n",
        "range(0,-10)\n",
        "print(d[0], d[1], d[2], d[3], d[4], d[5], d[6], d[7], d[8], d[9])"
      ],
      "execution_count": 86,
      "outputs": [
        {
          "output_type": "stream",
          "text": [
            "range(0, 10)\n",
            "0 1 2 3 4 5 6 7 8 9\n",
            "range(0, 9, 2)\n",
            "0 2 4 6 8\n",
            "range(5, 10, 2)\n",
            "5 7 9\n",
            "range(0, -10, -1)\n",
            "0 -1 -2 -3 -4 -5 -6 -7 -8 -9\n"
          ],
          "name": "stdout"
        }
      ]
    }
  ]
}
