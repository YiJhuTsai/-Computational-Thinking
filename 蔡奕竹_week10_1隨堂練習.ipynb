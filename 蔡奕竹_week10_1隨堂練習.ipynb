{
  "nbformat": 4,
  "nbformat_minor": 0,
  "metadata": {
    "colab": {
      "name": "蔡奕竹-week10-1隨堂練習.ipynb",
      "provenance": [],
      "authorship_tag": "ABX9TyMM2lWs+nEBZbOuVodcZBBn",
      "include_colab_link": true
    },
    "kernelspec": {
      "name": "python3",
      "display_name": "Python 3"
    }
  },
  "cells": [
    {
      "cell_type": "markdown",
      "metadata": {
        "id": "view-in-github",
        "colab_type": "text"
      },
      "source": [
        "<a href=\"https://colab.research.google.com/github/YiJhuTsai/-Computational-Thinking/blob/master/%E8%94%A1%E5%A5%95%E7%AB%B9_week10_1%E9%9A%A8%E5%A0%82%E7%B7%B4%E7%BF%92.ipynb\" target=\"_parent\"><img src=\"https://colab.research.google.com/assets/colab-badge.svg\" alt=\"Open In Colab\"/></a>"
      ]
    },
    {
      "cell_type": "code",
      "metadata": {
        "colab": {
          "base_uri": "https://localhost:8080/"
        },
        "id": "joj4bI20Ssb9",
        "outputId": "b6cb3bf3-faaf-475a-a5b9-03d2c0d7cdf4"
      },
      "source": [
        "# 寫程式是怎麼一回事\n",
        "## Question: {魔球}那部電影值不值得看? 老闆想了解一下那部電影的相關知識\n",
        "# Step1 : 上網找 哪裡找 找什麼 如何回復\n",
        "## IMBD從電影資料庫找出要記錄的魔球電影相關資訊\n",
        "## 網址: https://www.imdb.com/title/tt1210166/\n",
        "## 相關資訊:　電影名稱，放映日期......\n",
        "\n",
        "# Step2 : Input-Process-Output\n",
        "\n",
        "# Step3 : Coding\n",
        "\n",
        "movie_title = \"money ball\" \n",
        "release_year = \"2011\"\n",
        "movie_time_min = 133 \n",
        "movie_rating = 7.6\n",
        "\n",
        "director = \"Bennett Miller\" \n",
        "stars_1 = \"Brad Pitt\" \n",
        "stars_2 = \"Robin Wright\"\n",
        "stars_3 = \"Jonah Hill\"\n",
        "\n",
        "like = 1\n",
        "\n",
        "print(\"電影英文名稱\",movie_title) \n",
        "print(\"上映年分\",release_year)\n",
        "print(\"片長\",movie_time_min)\n",
        "print(\"評價\",movie_rating)\n",
        "print(\"導演\",director)"
      ],
      "execution_count": 4,
      "outputs": [
        {
          "output_type": "stream",
          "text": [
            "電影英文名稱 money ball\n",
            "上映年分 2011\n",
            "片長 133\n",
            "評價 7.6\n",
            "導演 Bennett Miller\n"
          ],
          "name": "stdout"
        }
      ]
    }
  ]
}