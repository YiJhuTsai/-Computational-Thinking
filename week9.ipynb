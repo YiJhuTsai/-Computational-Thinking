{
  "nbformat": 4,
  "nbformat_minor": 0,
  "metadata": {
    "colab": {
      "name": "Untitled",
      "provenance": [],
      "authorship_tag": "ABX9TyObSsM3kPe7PrYZu2s5PlWl",
      "include_colab_link": true
    },
    "kernelspec": {
      "name": "python3",
      "display_name": "Python 3"
    }
  },
  "cells": [
    {
      "cell_type": "markdown",
      "metadata": {
        "id": "view-in-github",
        "colab_type": "text"
      },
      "source": [
        "<a href=\"https://colab.research.google.com/github/YiJhuTsai/-Computational-Thinking/blob/master/week9.ipynb\" target=\"_parent\"><img src=\"https://colab.research.google.com/assets/colab-badge.svg\" alt=\"Open In Colab\"/></a>"
      ]
    },
    {
      "cell_type": "code",
      "metadata": {
        "id": "j_Q93_H3UCwC",
        "outputId": "f6a8b025-24ee-40ab-e829-8ad313bea210",
        "colab": {
          "base_uri": "https://localhost:8080/"
        }
      },
      "source": [
        "cloth=int(input(\"請輸入上衣的數量？\"))\n",
        "pants=int(input(\"請輸入褲子的數量？\"))\n",
        "vest=int(input(\"請輸入背心的數量？\"))\n",
        "total=300*cloth+350*pants+400*vest\n",
        "print(\"訂購服裝的總金額為\",total)\n"
      ],
      "execution_count": 5,
      "outputs": [
        {
          "output_type": "stream",
          "text": [
            "請輸入上衣的數量？5\n",
            "請輸入褲子的數量？2\n",
            "請輸入背心的數量？3\n",
            "訂購服裝的總金額為 3400\n"
          ],
          "name": "stdout"
        }
      ]
    },
    {
      "cell_type": "code",
      "metadata": {
        "id": "VdxKY7oMYV6V",
        "outputId": "3c4f752d-7b42-4f92-e073-f75f90f2d2ea",
        "colab": {
          "base_uri": "https://localhost:8080/"
        }
      },
      "source": [
        "cans=int(input(\"請輸入買飲料的罐數？\"))\n",
        "total=(cans//12)*200+(cans%12)*20\n",
        "print(\"需花費\",total)"
      ],
      "execution_count": 7,
      "outputs": [
        {
          "output_type": "stream",
          "text": [
            "請輸入買飲料的罐數？26\n",
            "需花費 440\n"
          ],
          "name": "stdout"
        }
      ]
    },
    {
      "cell_type": "code",
      "metadata": {
        "id": "ESCtDmbRq4Xs",
        "outputId": "9580463f-5962-4b8c-c9d2-ddbf50739982",
        "colab": {
          "base_uri": "https://localhost:8080/"
        }
      },
      "source": [
        "first=int(input(\"請輸入第一次期中考成績\"))\n",
        "second=int(input(\"請輸入第二次期中考成績\"))\n",
        "final=int(input(\"請輸入期末考成績\"))\n",
        "total=first+second+final\n",
        "average=total/3\n",
        "print(\"總分為\",total,\"平均為\",average)\n"
      ],
      "execution_count": 9,
      "outputs": [
        {
          "output_type": "stream",
          "text": [
            "請輸入第一次期中考成績65\n",
            "請輸入第二次期中考成績72\n",
            "請輸入期末考成績80\n",
            "總分為 217 平均為 72.33333333333333\n"
          ],
          "name": "stdout"
        }
      ]
    }
  ]
}