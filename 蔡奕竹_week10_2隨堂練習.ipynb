{
  "nbformat": 4,
  "nbformat_minor": 0,
  "metadata": {
    "colab": {
      "name": "蔡奕竹-week10-2隨堂練習.ipynb",
      "provenance": [],
      "authorship_tag": "ABX9TyOvZPXFHDilgQalfJHYUE4l",
      "include_colab_link": true
    },
    "kernelspec": {
      "name": "python3",
      "display_name": "Python 3"
    }
  },
  "cells": [
    {
      "cell_type": "markdown",
      "metadata": {
        "id": "view-in-github",
        "colab_type": "text"
      },
      "source": [
        "<a href=\"https://colab.research.google.com/github/YiJhuTsai/-Computational-Thinking/blob/master/%E8%94%A1%E5%A5%95%E7%AB%B9_week10_2%E9%9A%A8%E5%A0%82%E7%B7%B4%E7%BF%92.ipynb\" target=\"_parent\"><img src=\"https://colab.research.google.com/assets/colab-badge.svg\" alt=\"Open In Colab\"/></a>"
      ]
    },
    {
      "cell_type": "code",
      "metadata": {
        "colab": {
          "base_uri": "https://localhost:8080/"
        },
        "id": "joj4bI20Ssb9",
        "outputId": "b0057f82-0bee-42f4-cea2-ae7f48915c84"
      },
      "source": [
        "# Input Data\n",
        "time = 123\n",
        "\n",
        "# Process\n",
        "hour = time // 60 # 商數\n",
        "minute = time % 60 # 餘數\n",
        "\n",
        "# Output\n",
        "\n",
        "print(time, \"是\", hour, \"小時\", minute, \"分鐘\")\n",
        "\n",
        "## Process\n",
        "\n",
        "hour1 = int(time / 60) #除法與整數\n",
        "minute1 = ((time / 60) - hour)*60\n",
        "import math\n",
        "minute1 = round(minute1)\n",
        "print(time, \"是\", hour1, \"小時\", minute1, \"分鐘\")"
      ],
      "execution_count": 8,
      "outputs": [
        {
          "output_type": "stream",
          "text": [
            "123 是 2 小時 3 分鐘\n",
            "123 是 2 小時 3 分鐘\n"
          ],
          "name": "stdout"
        }
      ]
    }
  ]
}