{
  "nbformat": 4,
  "nbformat_minor": 0,
  "metadata": {
    "colab": {
      "name": "蔡奕竹-week9-1.ipynb",
      "provenance": [],
      "authorship_tag": "ABX9TyNhopi8GWggBSYibPIed4PG",
      "include_colab_link": true
    },
    "kernelspec": {
      "name": "python3",
      "display_name": "Python 3"
    }
  },
  "cells": [
    {
      "cell_type": "markdown",
      "metadata": {
        "id": "view-in-github",
        "colab_type": "text"
      },
      "source": [
        "<a href=\"https://colab.research.google.com/github/YiJhuTsai/-Computational-Thinking/blob/master/%E8%94%A1%E5%A5%95%E7%AB%B9_week9_1.ipynb\" target=\"_parent\"><img src=\"https://colab.research.google.com/assets/colab-badge.svg\" alt=\"Open In Colab\"/></a>"
      ]
    },
    {
      "cell_type": "code",
      "metadata": {
        "id": "WCjGUIvZY_Np",
        "outputId": "4f1556b2-535c-4618-f1ca-a3e8af8ece83",
        "colab": {
          "base_uri": "https://localhost:8080/"
        }
      },
      "source": [
        "# 變數賦值\n",
        "x = 2\n",
        "y = 5\n",
        "## 等號的左邊有什麼規定\n",
        "## 等號的右邊有什麼規定\n",
        "## 等號可以做什麼\n",
        "\n",
        "# 數字資料做運算\n",
        "## 加減乘除 商數餘數次方\n",
        "## 運算順序\n",
        "print(x + y)\n",
        "print(x - y)\n",
        "print(x * y)\n",
        "print(x / y)\n",
        "print(x // y)\n",
        "print(x % y)\n",
        "print(x ** y)"
      ],
      "execution_count": 13,
      "outputs": [
        {
          "output_type": "stream",
          "text": [
            "7\n",
            "-3\n",
            "10\n",
            "0.4\n",
            "0\n",
            "2\n",
            "32\n"
          ],
          "name": "stdout"
        }
      ]
    },
    {
      "cell_type": "markdown",
      "metadata": {
        "id": "RllSPg1NafIa"
      },
      "source": [
        "# 標準輸入輸出\n",
        "## input()函數\n",
        "## print()函數"
      ]
    },
    {
      "cell_type": "code",
      "metadata": {
        "id": "37gRiNzPZjWR",
        "outputId": "28926db2-db56-4735-f92b-bda2651d03fa",
        "colab": {
          "base_uri": "https://localhost:8080/",
          "height": 52
        }
      },
      "source": [
        "input()"
      ],
      "execution_count": 4,
      "outputs": [
        {
          "output_type": "stream",
          "text": [
            "3\n"
          ],
          "name": "stdout"
        },
        {
          "output_type": "execute_result",
          "data": {
            "application/vnd.google.colaboratory.intrinsic+json": {
              "type": "string"
            },
            "text/plain": [
              "'3'"
            ]
          },
          "metadata": {
            "tags": []
          },
          "execution_count": 4
        }
      ]
    },
    {
      "cell_type": "code",
      "metadata": {
        "id": "LB8jVAXmaNVS",
        "outputId": "24a89dc1-a06d-425c-e8c7-8d676ec2728f",
        "colab": {
          "base_uri": "https://localhost:8080/",
          "height": 52
        }
      },
      "source": [
        "input('請輸入數字? ')"
      ],
      "execution_count": 5,
      "outputs": [
        {
          "output_type": "stream",
          "text": [
            "請輸入數字?5\n"
          ],
          "name": "stdout"
        },
        {
          "output_type": "execute_result",
          "data": {
            "application/vnd.google.colaboratory.intrinsic+json": {
              "type": "string"
            },
            "text/plain": [
              "'5'"
            ]
          },
          "metadata": {
            "tags": []
          },
          "execution_count": 5
        }
      ]
    },
    {
      "cell_type": "code",
      "metadata": {
        "id": "6zR4mwuqapYv",
        "outputId": "0597f0df-66b3-4d42-eeef-41d2c3019f39",
        "colab": {
          "base_uri": "https://localhost:8080/"
        }
      },
      "source": [
        "x = input('請輸入數字? ')"
      ],
      "execution_count": 6,
      "outputs": [
        {
          "output_type": "stream",
          "text": [
            "請輸入數字? 3\n"
          ],
          "name": "stdout"
        }
      ]
    },
    {
      "cell_type": "code",
      "metadata": {
        "id": "Smc9anKFa9d2",
        "outputId": "ce64bc57-4327-443e-c5c6-e7456a13c59b",
        "colab": {
          "base_uri": "https://localhost:8080/",
          "height": 35
        }
      },
      "source": [
        "x\n"
      ],
      "execution_count": 7,
      "outputs": [
        {
          "output_type": "execute_result",
          "data": {
            "application/vnd.google.colaboratory.intrinsic+json": {
              "type": "string"
            },
            "text/plain": [
              "'3'"
            ]
          },
          "metadata": {
            "tags": []
          },
          "execution_count": 7
        }
      ]
    },
    {
      "cell_type": "code",
      "metadata": {
        "id": "u-WVM4LobFRt",
        "outputId": "65bafcba-1e31-4832-c411-c30f1a13cb70",
        "colab": {
          "base_uri": "https://localhost:8080/"
        }
      },
      "source": [
        "print(x)"
      ],
      "execution_count": 8,
      "outputs": [
        {
          "output_type": "stream",
          "text": [
            "3\n"
          ],
          "name": "stdout"
        }
      ]
    },
    {
      "cell_type": "code",
      "metadata": {
        "id": "7o8j4itobWvv",
        "outputId": "df3575b2-c2e0-4aa7-ac07-51e48407a51c",
        "colab": {
          "base_uri": "https://localhost:8080/"
        }
      },
      "source": [
        "print(x, 2, 'Python')"
      ],
      "execution_count": 9,
      "outputs": [
        {
          "output_type": "stream",
          "text": [
            "3 2 Python\n"
          ],
          "name": "stdout"
        }
      ]
    },
    {
      "cell_type": "code",
      "metadata": {
        "id": "Hy2sSzrPbitB",
        "outputId": "0e4d2908-19c9-40fe-a3e2-90c9ebf35ec5",
        "colab": {
          "base_uri": "https://localhost:8080/"
        }
      },
      "source": [
        "cloth=int(input(\"請輸入上衣的數量？\"))\n",
        "pants=int(input(\"請輸入褲子的數量？\"))\n",
        "vest=int(input(\"請輸入背心的數量？\"))\n",
        "total=300*cloth+350*pants+400*vest\n",
        "print(\"訂購服裝的總金額為\",total)"
      ],
      "execution_count": 10,
      "outputs": [
        {
          "output_type": "stream",
          "text": [
            "請輸入上衣的數量？5\n",
            "請輸入褲子的數量？2\n",
            "請輸入背心的數量？3\n",
            "訂購服裝的總金額為 3400\n"
          ],
          "name": "stdout"
        }
      ]
    },
    {
      "cell_type": "code",
      "metadata": {
        "id": "vxhx-351hKY1",
        "outputId": "3eebd2ff-cf86-451e-efdc-de3579149306",
        "colab": {
          "base_uri": "https://localhost:8080/"
        }
      },
      "source": [
        "cans=int(input(\"請輸入買飲料的罐數？\"))\n",
        "total=(cans//12)*200+(cans%12)*20\n",
        "print(\"需花費\",total)"
      ],
      "execution_count": 11,
      "outputs": [
        {
          "output_type": "stream",
          "text": [
            "請輸入買飲料的罐數？26\n",
            "需花費 440\n"
          ],
          "name": "stdout"
        }
      ]
    },
    {
      "cell_type": "code",
      "metadata": {
        "id": "4INhgaVThQSK",
        "outputId": "fd6b74be-7a37-48f2-840e-c0ff680b1d11",
        "colab": {
          "base_uri": "https://localhost:8080/"
        }
      },
      "source": [
        "first=int(input(\"請輸入第一次期中考成績\"))\n",
        "second=int(input(\"請輸入第二次期中考成績\"))\n",
        "final=int(input(\"請輸入期末考成績\"))\n",
        "total=first+second+final\n",
        "average=total/3\n",
        "print(\"總分為\",total,\"平均為\",average)"
      ],
      "execution_count": 12,
      "outputs": [
        {
          "output_type": "stream",
          "text": [
            "請輸入第一次期中考成績65\n",
            "請輸入第二次期中考成績72\n",
            "請輸入期末考成績80\n",
            "總分為 217 平均為 72.33333333333333\n"
          ],
          "name": "stdout"
        }
      ]
    }
  ]
}
