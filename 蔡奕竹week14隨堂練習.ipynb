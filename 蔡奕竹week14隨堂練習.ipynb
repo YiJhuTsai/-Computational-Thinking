{
  "nbformat": 4,
  "nbformat_minor": 0,
  "metadata": {
    "colab": {
      "name": "蔡奕竹week14隨堂練習.ipynb",
      "provenance": [],
      "authorship_tag": "ABX9TyMa9htcAiKukBKvF9kxhYIC",
      "include_colab_link": true
    },
    "kernelspec": {
      "name": "python3",
      "display_name": "Python 3"
    }
  },
  "cells": [
    {
      "cell_type": "markdown",
      "metadata": {
        "id": "view-in-github",
        "colab_type": "text"
      },
      "source": [
        "<a href=\"https://colab.research.google.com/github/YiJhuTsai/-Computational-Thinking/blob/master/%E8%94%A1%E5%A5%95%E7%AB%B9week14%E9%9A%A8%E5%A0%82%E7%B7%B4%E7%BF%92.ipynb\" target=\"_parent\"><img src=\"https://colab.research.google.com/assets/colab-badge.svg\" alt=\"Open In Colab\"/></a>"
      ]
    },
    {
      "cell_type": "markdown",
      "metadata": {
        "id": "94gMitrTpcFa"
      },
      "source": [
        "隨堂練習1"
      ]
    },
    {
      "cell_type": "code",
      "metadata": {
        "colab": {
          "base_uri": "https://localhost:8080/"
        },
        "id": "TTMBvrMAmY2Y",
        "outputId": "1ac97d9e-21eb-4026-a213-635b0af40fe8"
      },
      "source": [
        "# 方法(二):文字串列列印\r\n",
        "sheet = ['牛奶','蛋','咖啡豆']\r\n",
        "for index in [0,1,2]: #位置索引迴圈range(3)\r\n",
        "  print(index, sheet[index])\r\n",
        "#index是索引值，sheet[index]才是項目"
      ],
      "execution_count": 1,
      "outputs": [
        {
          "output_type": "stream",
          "text": [
            "0 牛奶\n",
            "1 蛋\n",
            "2 咖啡豆\n"
          ],
          "name": "stdout"
        }
      ]
    },
    {
      "cell_type": "markdown",
      "metadata": {
        "id": "yVyPV1lJtxB1"
      },
      "source": [
        "隨堂練習2"
      ]
    },
    {
      "cell_type": "code",
      "metadata": {
        "id": "dX0-SnUVtwQ3"
      },
      "source": [
        "# 雙迴圈,for巢狀迴圈\r\n",
        " for i in range(1,10): # 控制輸出幾行\r\n",
        "  for j in range(1,10): # 每行輸出多少個\r\n",
        "  # 依序將「變數i* 變數j = 變數i 與j 相乘結果」顯示在螢幕\r\n",
        "  # 串接tab,設定sep與end為空字串。\r\n",
        "    print(i, '*', j, '=', i*j, '\\t', sep='',end='')\r\n",
        "  print() # 每行輸出後換行"
      ],
      "execution_count": null,
      "outputs": []
    }
  ]
}