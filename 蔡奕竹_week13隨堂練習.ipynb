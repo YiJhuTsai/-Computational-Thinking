{
  "nbformat": 4,
  "nbformat_minor": 0,
  "metadata": {
    "colab": {
      "name": "蔡奕竹_week13隨堂練習.ipynb",
      "provenance": [],
      "authorship_tag": "ABX9TyMOw7Kd7ytxvex1ZiUJWaCK",
      "include_colab_link": true
    },
    "kernelspec": {
      "name": "python3",
      "display_name": "Python 3"
    }
  },
  "cells": [
    {
      "cell_type": "markdown",
      "metadata": {
        "id": "view-in-github",
        "colab_type": "text"
      },
      "source": [
        "<a href=\"https://colab.research.google.com/github/YiJhuTsai/-Computational-Thinking/blob/master/%E8%94%A1%E5%A5%95%E7%AB%B9_week13%E9%9A%A8%E5%A0%82%E7%B7%B4%E7%BF%92.ipynb\" target=\"_parent\"><img src=\"https://colab.research.google.com/assets/colab-badge.svg\" alt=\"Open In Colab\"/></a>"
      ]
    },
    {
      "cell_type": "markdown",
      "metadata": {
        "id": "PlVpXwyKsMOF"
      },
      "source": [
        "隨堂練習一"
      ]
    },
    {
      "cell_type": "code",
      "metadata": {
        "colab": {
          "base_uri": "https://localhost:8080/"
        },
        "id": "Rx0Jxi4wjh76",
        "outputId": "10f71040-b2e4-4527-bd41-e11989e55b9d"
      },
      "source": [
        "for i in range(0,5,1):\r\n",
        "   print(\"Hello\")"
      ],
      "execution_count": 1,
      "outputs": [
        {
          "output_type": "stream",
          "text": [
            "Hello\n",
            "Hello\n",
            "Hello\n",
            "Hello\n",
            "Hello\n"
          ],
          "name": "stdout"
        }
      ]
    },
    {
      "cell_type": "markdown",
      "metadata": {
        "id": "JxLA6tCMsLc0"
      },
      "source": [
        "隋堂練習二\r\n"
      ]
    },
    {
      "cell_type": "code",
      "metadata": {
        "colab": {
          "base_uri": "https://localhost:8080/"
        },
        "id": "PX2jNNWclUfP",
        "outputId": "53a833b7-a237-4c72-b0ca-775dcaf89991"
      },
      "source": [
        "sum = 0\r\n",
        "for i in range(2,11,2) :\r\n",
        "    sum = sum + i\r\n",
        "print(\"Total is\",sum)"
      ],
      "execution_count": 5,
      "outputs": [
        {
          "output_type": "stream",
          "text": [
            "Total is 30\n"
          ],
          "name": "stdout"
        }
      ]
    },
    {
      "cell_type": "markdown",
      "metadata": {
        "id": "FwIO9zpuszCN"
      },
      "source": [
        "隨堂練習三"
      ]
    },
    {
      "cell_type": "code",
      "metadata": {
        "colab": {
          "base_uri": "https://localhost:8080/"
        },
        "id": "RbmiPLd6rq3p",
        "outputId": "cc3852ef-2055-42fe-8521-39b2f0e6dd28"
      },
      "source": [
        "sum = 0\r\n",
        "for i in range(3,13,3) :\r\n",
        "    sum = sum + i\r\n",
        "print(\"Total is\",sum)"
      ],
      "execution_count": 6,
      "outputs": [
        {
          "output_type": "stream",
          "text": [
            "Total is 30\n"
          ],
          "name": "stdout"
        }
      ]
    }
  ]
}