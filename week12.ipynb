{
  "nbformat": 4,
  "nbformat_minor": 0,
  "metadata": {
    "colab": {
      "name": "week12.ipynb",
      "provenance": [],
      "authorship_tag": "ABX9TyP/BJ7zee1K66r+13sXlX2O",
      "include_colab_link": true
    },
    "kernelspec": {
      "name": "python3",
      "display_name": "Python 3"
    }
  },
  "cells": [
    {
      "cell_type": "markdown",
      "metadata": {
        "id": "view-in-github",
        "colab_type": "text"
      },
      "source": [
        "<a href=\"https://colab.research.google.com/github/YiJhuTsai/-Computational-Thinking/blob/master/week12.ipynb\" target=\"_parent\"><img src=\"https://colab.research.google.com/assets/colab-badge.svg\" alt=\"Open In Colab\"/></a>"
      ]
    },
    {
      "cell_type": "code",
      "metadata": {
        "id": "ChYRtn6Id-8y"
      },
      "source": [
        "# 期末專題分組報告名單\r\n",
        "project_title = \"電影購票系統\"\r\n",
        "name_list = ['梁薺', '陳漢杰', '蔡奕竹']\r\n",
        "number_list = ['A106260049', 'A106260065', 'A108310033']\r\n",
        "duty_list = [\"專題想法與程式設計撰寫\",\"專題想法與程式設計撰寫\",\"專題想法與程式設計撰寫\"] #初步設定\r\n",
        "load_list = [33,33,34]"
      ],
      "execution_count": 1,
      "outputs": []
    },
    {
      "cell_type": "code",
      "metadata": {
        "colab": {
          "base_uri": "https://localhost:8080/"
        },
        "id": "vonxNvd8gc9L",
        "outputId": "ae63ce55-22aa-4566-f229-56157ce53c45"
      },
      "source": [
        "分組名單 = list((project_title, name_list, number_list, duty_list, load_list))\r\n",
        "print(分組名單)"
      ],
      "execution_count": 2,
      "outputs": [
        {
          "output_type": "stream",
          "text": [
            "['電影購票系統', ['梁薺', '陳漢杰', '蔡奕竹'], ['A106260049', 'A106260065', 'A108310033'], ['專題想法與程式設計撰寫', '專題想法與程式設計撰寫', '專題想法與程式設計撰寫'], [33, 33, 34]]\n"
          ],
          "name": "stdout"
        }
      ]
    },
    {
      "cell_type": "code",
      "metadata": {
        "colab": {
          "base_uri": "https://localhost:8080/"
        },
        "id": "v1o8aptHhEFy",
        "outputId": "6de1a272-4041-4efe-bf7b-c6893fe13427"
      },
      "source": [
        "print(name_list[0]) #組長姓名\r\n",
        "print(number_list[0]) #組長學號\r\n",
        "print(duty_list[0]) #組長負責工作\r\n",
        "print(load_list[0]) #組長工作比重"
      ],
      "execution_count": 3,
      "outputs": [
        {
          "output_type": "stream",
          "text": [
            "梁薺\n",
            "A106260049\n",
            "專題想法與程式設計撰寫\n",
            "33\n"
          ],
          "name": "stdout"
        }
      ]
    }
  ]
}